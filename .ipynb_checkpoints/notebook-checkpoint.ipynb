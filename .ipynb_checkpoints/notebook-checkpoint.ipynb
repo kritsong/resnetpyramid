{
 "cells": [
  {
   "cell_type": "code",
   "execution_count": null,
   "metadata": {
    "collapsed": false
   },
   "outputs": [],
   "source": [
    "import matplotlib.pyplot as plt\n",
    "from main import debugging\n",
    "try:\n",
    "    %matplotlib inline\n",
    "except NameError:  # in case it's a script. \n",
    "    pass\n",
    "\n",
    "import os\n",
    "import menpo.io as mio\n",
    "from menpo.image import Image\n",
    "import numpy as np\n",
    "from menpo.shape import PointTree, PointUndirectedGraph\n",
    "from menpofit.dpm.utils import convolve_python_f, call_shiftdt\n",
    "from menpofit.dpm import HogFeaturePyramid, DPMFitter, non_max_suppression_fast, clip_boxes, bb_to_lns, DPMLearner\n",
    "from menpofit.dpm.main import *"
   ]
  },
  {
   "cell_type": "code",
   "execution_count": null,
   "metadata": {
    "collapsed": false
   },
   "outputs": [],
   "source": [
    "from main import visualize_tree\n",
    "points = visualize_tree()\n",
    "from resnet_feature_pyramid import ResnetFeaturePyramid\n",
    "pickle_dev = '/vol/atlas/homes/ks3811/pickles/resnet/multipie'\n",
    "model_name = '50pos_component_0.pkl'\n",
    "resnet = ResnetFeaturePyramid()\n",
    "model = get_model(pickle_dev, model_name, resnet)\n",
    "components = model.components\n",
    "front_face_component = components[0]\n",
    "tree = front_face_component['tree']\n",
    "new_tree = PointTree(points, tree.adjacency_matrix.todense(), tree.root_vertex, skip_checks=True)\n",
    "new_tree.view(render_numbering=True)\n",
    "\n",
    "from ibugnet.utils import rescale_image\n",
    "image = mio.import_builtin_asset('takeo.ppm', normalize=False)\n",
    "image = image.crop_to_landmarks_proportion(0.2)\n",
    "image = rescale_image(image)\n",
    "image.view()"
   ]
  },
  {
   "cell_type": "code",
   "execution_count": null,
   "metadata": {
    "collapsed": false
   },
   "outputs": [],
   "source": [
    "learner = DPMLearner()\n",
    "pos, neg = learner._get_frontal_pie_image_info(pickle_dev)\n",
    "print(pos[0])"
   ]
  },
  {
   "cell_type": "code",
   "execution_count": null,
   "metadata": {
    "collapsed": true
   },
   "outputs": [],
   "source": [
    "def distance_transform(scores, def_coefs, tree, anchors=None):\n",
    "    r\"\"\"\n",
    "    Given the (unary) scores it computes the pairwise scores by utilising the Generalised Distance\n",
    "    Transform.\n",
    "\n",
    "    Parameters\n",
    "    ----------\n",
    "    scores: `list`\n",
    "        The (unary) scores to which the pairwise score will be added.\n",
    "    tree: `:map:`Tree``\n",
    "        Tree with the parent/child connections.\n",
    "    def_coef: `list`\n",
    "        Each element contains a 4-tuple with the deformation coefficients for that part.\n",
    "    anchors:\n",
    "        Contains the anchor position in relation to the parent of each part.\n",
    "\n",
    "    Returns\n",
    "    -------\n",
    "    scores: `ndarray`\n",
    "        The (unary + pairwise) scores.\n",
    "    Ix: `dict`\n",
    "        Contains the coordinates of x for each part from the Generalised Distance Transform.\n",
    "    Iy: `dict`\n",
    "        Contains the coordinates of y for each part from the Generalised Distance Transform.\n",
    "    \"\"\"\n",
    "    iy, ix = {}, {}\n",
    "    for depth in range(tree.maximum_depth, 0, -1):\n",
    "        for curr_vert in tree.vertices_at_depth(depth):\n",
    "            parent = tree.parent(curr_vert)\n",
    "            (ny, nx) = scores[parent].shape\n",
    "            w = def_coefs[curr_vert] * -1.00\n",
    "            (cx, cy, _) = anchors[curr_vert]\n",
    "            msg, ix1, iy1 = call_shiftdt(scores[curr_vert], np.array(w, dtype=np.double), cx, cy, nx, ny, 1)\n",
    "            scores[parent] += msg\n",
    "            ix[curr_vert] = ix1\n",
    "            iy[curr_vert] = iy1\n",
    "    return scores, ix, iy\n",
    "\n",
    "def get_model(pickle, model_name, feature_pyramid=None):\n",
    "    file_name = os.path.join(pickle, model_name)\n",
    "    model = mio.import_pickle(file_name, encoding=\"latin1\")\n",
    "    model.interval = 10  # Use deeper pyramid when detecting actual objects\n",
    "    if feature_pyramid is not None:\n",
    "        model.feature_pyramid = feature_pyramid\n",
    "    return model"
   ]
  },
  {
   "cell_type": "code",
   "execution_count": null,
   "metadata": {
    "collapsed": false
   },
   "outputs": [],
   "source": [
    "pickle_dev = '/vol/atlas/homes/ks3811/pickles/resnet/multipie'\n",
    "model_name = '50pos_component_0.pkl'\n",
    "model = get_model(pickle_dev, model_name, resnet)\n",
    "\n",
    "filters_all = model.get_filters_weights()\n",
    "defs_all = model.get_defs_weights()\n",
    "anchors_all = model.get_defs_anchors()\n",
    "components = model.components\n",
    "\n",
    "front_face_component = components[0]"
   ]
  },
  {
   "cell_type": "code",
   "execution_count": null,
   "metadata": {
    "collapsed": false
   },
   "outputs": [],
   "source": [
    "from ibugnet.utils import (caffe_preprocess, rescale_image)\n",
    "image = mio.import_builtin_asset('takeo.ppm', normalize=False)\n",
    "image = mio.import_image('/vol/hci2/Databases/video/MultiPIE/session01/png/001/01/05_1/001_01_01_051_05.png', normalize=False)\n",
    "image.landmarks['all'] = PointCloud(pos[0]['pts'])\n",
    "image = image.crop_to_landmarks_proportion(0.5)\n",
    "image = rescale_image(image)\n",
    "fea = resnet.extract_feature(image)\n",
    "print(fea.shape)\n",
    "# plt.imshow(fea.argmax(0))\n",
    "plt.imshow(fea[34, :, :])\n",
    "image.view(alpha=0.6)\n",
    "# image.view_landmarks()\n",
    "# visualise_fit_image(image, model)"
   ]
  },
  {
   "cell_type": "code",
   "execution_count": null,
   "metadata": {
    "collapsed": false
   },
   "outputs": [],
   "source": [
    "plt.imshow(model.filters[0]['w'][5])"
   ]
  },
  {
   "cell_type": "code",
   "execution_count": null,
   "metadata": {
    "collapsed": false
   },
   "outputs": [],
   "source": [
    "#get tree, defs, and anchors of frontal face component\n",
    "from ibugnet.utils import (caffe_preprocess, rescale_image)\n",
    "tree = front_face_component['tree']\n",
    "filter_ids = front_face_component['filter_ids']\n",
    "def_ids = front_face_component['def_ids']\n",
    "defs = np.array(defs_all)[def_ids]\n",
    "anchors = np.array(anchors_all)[def_ids]\n",
    "\n",
    "#this is just to compute the score of each part.\n",
    "image = mio.import_builtin_asset('takeo.ppm', normalize=False)\n",
    "image = image.crop_to_landmarks_proportion(0.2)\n",
    "image = rescale_image(image)\n",
    "padding = (model.maxsize[0] - 1, model.maxsize[1] - 1)\n",
    "feats, scales, shifts = model.feature_pyramid.extract_pyramid(image, model.interval, padding)\n",
    "feat = feats[0]\n",
    "unary_scores_all = convolve_python_f(feat, filters_all)\n",
    "scores = np.array(unary_scores_all)[filter_ids]\n",
    "\n",
    "transform_scores, ix, iy = distance_transform(scores, defs, tree, anchors)\n",
    "\n",
    "#root is at the tip of the nose\n",
    "root_pixels = transform_scores[0]\n",
    "root_pixels -= np.min(root_pixels)\n",
    "root_pixels /= 255\n",
    "root_score = Image(root_pixels.clip(0, 1))\n",
    "root_score = root_score.resize(image.shape)\n",
    "\n",
    "plt.imshow(root_score.pixels[0])\n",
    "\n",
    "image.view(alpha=.6)"
   ]
  },
  {
   "cell_type": "code",
   "execution_count": null,
   "metadata": {
    "collapsed": false,
    "scrolled": true
   },
   "outputs": [],
   "source": [
    "from menpo.shape import PointCloud\n",
    "from ibugnet.utils import (caffe_preprocess, rescale_image)\n",
    "# image = mio.import_image('/vol/atlas/databases/aflw_ibug/face_40085.jpg', normalise=False)\n",
    "image = mio.import_builtin_asset('takeo.ppm', normalize=False)\n",
    "image = image.crop_to_landmarks_proportion(0.2)\n",
    "image = rescale_image(image)\n",
    "# boxes = DPMFitter.fast_fit_from_model(image, model, 0, return_once=True)\n",
    "\n",
    "# boxes.sort(key=lambda item: item['s'], reverse=True)\n",
    "# cc, pick = non_max_suppression_fast(clip_boxes(boxes), 0.3)\n",
    "# lns = bb_to_lns(boxes, pick)\n",
    "\n",
    "from main import visualize_tree\n",
    "\n",
    "\n",
    "new_tree = PointTree(lns[0], tree.adjacency_matrix.todense(), tree.root_vertex, skip_checks=True)\n",
    "new_tree.view()\n",
    "\n",
    "image.landmarks['all'] = PointCloud(lns[0])\n",
    "\n",
    "# plt.imshow(root_score.pixels[0])\n",
    "image.view(alpha=.6)\n",
    "# image.view_landmarks(group='all')"
   ]
  },
  {
   "cell_type": "code",
   "execution_count": null,
   "metadata": {
    "collapsed": false
   },
   "outputs": [],
   "source": [
    "from ibugnet.utils import rescale_image\n",
    "\n",
    "\n",
    "im = mio.import_image('/vol/atlas/databases/aflw_ibug/face_50970.jpg', normalise=False)\n",
    "# print(mio.import_landmark_file('/vol/atlas/databases/aflw_ibug/face_40085.ljson').lms.points)\n",
    "# im.landmarks['all'] = mio.import_landmark_file('/vol/atlas/databases/aflw_ibug/face_52982.ljson').lms\n",
    "# im = im.crop_to_landmarks_proportion(0.2, group='test')\n",
    "# im.view_landmarks(render_numbering=True, group='test')\n",
    "\n",
    "# im.view_landmarks()\n",
    "# print(im.landmarks.values)\n",
    "# im.shape\n",
    "im=im.crop_to_landmarks_proportion(0.2)\n",
    "# im = rescale_image(im)\n",
    "im.view_landmarks()\n",
    "\n",
    "print(im.shape)\n",
    "# landmarks = mio.import_landmark_file('/vol/atlas/databases/aflw_ibug/face_52982.ljson')"
   ]
  },
  {
   "cell_type": "code",
   "execution_count": null,
   "metadata": {
    "collapsed": false
   },
   "outputs": [],
   "source": [
    "from menpo.shape import PointCloud\n",
    "learner = DPMLearner()\n",
    "points = np.array([[ 266.04368381,  320.65935687],\n",
    " [ 260.94626045,  328.46085126],\n",
    " [ 261.16349946,  337.50968759],\n",
    " [ 272.9061885 ,  314.21115142],\n",
    " [ 272.37312603,  316.55255966],\n",
    " [ 166.61049374,  354.94381138],\n",
    " [ 161.05147132,  365.2769276 ],\n",
    " [ 160.86524584,  377.18081041],\n",
    " [ 164.50206064,  388.32678416],\n",
    " [ 263.19456707,  355.39102411],\n",
    " [ 267.95879029,  363.68513351],\n",
    " [ 267.98675042,  359.68525318],\n",
    " [ 259.19512028,  346.62841639],\n",
    " [ 267.6619464 ,  338.98343969],\n",
    " [ 267.9633976 ,  327.38701488],\n",
    " [ 167.94276749,  293.86649782],\n",
    " [ 169.59988892,  307.55701998],\n",
    " [ 176.75566923,  319.04549808],\n",
    " [ 189.06601612,  357.14357365],\n",
    " [ 194.14640995,  364.79185152],\n",
    " [ 266.2634257 ,  349.40412971],\n",
    " [ 273.78637473,  330.56091267],\n",
    " [ 268.23827489,  338.98343969],\n",
    " [ 272.05766494,  356.06249316],\n",
    " [ 266.70279764,  349.2538412 ],\n",
    " [ 273.03179053,  347.30350886],\n",
    " [ 173.63407677,  395.52451337],\n",
    " [ 187.96427972,  381.93264257],\n",
    " [ 180.18385827,  374.33428092],\n",
    " [ 180.16312623,  363.26581315],\n",
    " [ 193.30729959,  374.17943011],\n",
    " [ 326.59210733,  348.70062646],\n",
    " [ 274.56631383,  338.72812526],\n",
    " [ 273.94428227,  322.26491258],\n",
    " [ 268.40989766,  327.37696506],\n",
    " [ 322.54661187,  367.52565511],\n",
    " [ 311.05346921,  383.63798168],\n",
    " [ 299.22985683,  399.41087926],\n",
    " [ 328.35296301,  327.07247704],\n",
    " [ 321.27084542,  306.50019306],\n",
    " [ 310.32832875,  287.44252797],\n",
    " [ 263.85929138,  414.32041467],\n",
    " [ 283.09949142,  410.36498402],\n",
    " [ 295.00642976,  271.86768945],\n",
    " [ 244.08908659,  414.80248234],\n",
    " [ 274.20444669,  264.79263945],\n",
    " [ 224.46431577,  415.37847178],\n",
    " [ 230.83815751,  257.86552192],\n",
    " [ 205.23098879,  411.78946745],\n",
    " [ 208.85560895,  255.32669716],\n",
    " [ 252.59876165,  261.24518985],\n",
    " [ 179.09686358,  333.09266416],\n",
    " [ 194.29484788,  333.75863705],\n",
    " [ 209.30063987,  336.13273099],\n",
    " [ 224.35995425,  337.77505285],\n",
    " [ 237.24846688,  349.56682135],\n",
    " [ 239.31611605,  344.09665875],\n",
    " [ 238.84262853,  325.74929414],\n",
    " [ 239.28606548,  331.96811107],\n",
    " [ 239.5777175 ,  338.15927184],\n",
    " [ 192.92209351,  306.18826532],\n",
    " [ 198.46518004,  298.98077177],\n",
    " [ 199.71922959,  290.05918643],\n",
    " [ 186.22826984 , 298.17753439],\n",
    " [ 187.73052783  ,287.54372927],\n",
    " [ 196.46296416 , 281.69851472],\n",
    " [ 176.75566923 , 268.3196206 ],\n",
    " [ 169.7202303  , 280.11868378]]\n",
    ")\n",
    "pos, neg = learner._get_frontal_pie_image_info('/vol/atlas/homes/ks3811/pickles/resnet/multipie')\n",
    "pos[0]['pts']\n",
    "\n",
    "im = mio.import_image(pos[0]['im'], normalize=True)\n",
    "im.landmarks['all'] = PointCloud([pos[0]['pts'][0]])\n",
    "# im = im.crop_to_landmarks_proportion(0.2)\n",
    "im.view_landmarks()\n",
    "\n",
    "# new_tree = PointTree(pos[0]['pts'], learner.get_aflw_tree(0).adjacency_matrix.todense(), tree.root_vertex, skip_checks=True)\n",
    "# new_tree.view()"
   ]
  },
  {
   "cell_type": "code",
   "execution_count": null,
   "metadata": {
    "collapsed": false
   },
   "outputs": [],
   "source": [
    "from resnet_feature_pyramid import ResnetFeaturePyramid\n",
    "pickle_dev = '/vol/atlas/homes/ks3811/pickles/resnet/fast'\n",
    "model_name = 'parts_model_0.pkl'\n",
    "model = get_model(pickle_dev, model_name, ResnetFeaturePyramid())"
   ]
  },
  {
   "cell_type": "code",
   "execution_count": null,
   "metadata": {
    "collapsed": false
   },
   "outputs": [],
   "source": [
    "response = DPMFitter.get_part_response(im, model, 0)"
   ]
  },
  {
   "cell_type": "code",
   "execution_count": null,
   "metadata": {
    "collapsed": false
   },
   "outputs": [],
   "source": [
    "plt.imshow(response)\n",
    "im.view(alpha=.6)"
   ]
  },
  {
   "cell_type": "code",
   "execution_count": null,
   "metadata": {
    "collapsed": false
   },
   "outputs": [],
   "source": [
    "from menpo.shape import PointCloud\n",
    "im = mio.import_image('/vol/atlas/databases/aflw_ibug/face_52982.jpg')\n",
    "im = im.crop([149.0, 31.0], [1167.0, 1047.0])\n",
    "im.view()\n",
    "# im.landmarks['all'] = PointCloud(np.array([[46, 351]]))\n",
    "# # im.landmarks['all'] = mio.import_landmark_file('/vol/atlas/databases/aflw_ibug/face_42755.ljson').lms\n",
    "# im.view_landmarks(group='all', render_numbering=True)"
   ]
  },
  {
   "cell_type": "code",
   "execution_count": null,
   "metadata": {
    "collapsed": false
   },
   "outputs": [],
   "source": []
  },
  {
   "cell_type": "code",
   "execution_count": null,
   "metadata": {
    "collapsed": true
   },
   "outputs": [],
   "source": []
  }
 ],
 "metadata": {
  "anaconda-cloud": {},
  "kernelspec": {
   "display_name": "Python [conda env:tensorflow]",
   "language": "python",
   "name": "conda-env-tensorflow-py"
  },
  "language_info": {
   "codemirror_mode": {
    "name": "ipython",
    "version": 3
   },
   "file_extension": ".py",
   "mimetype": "text/x-python",
   "name": "python",
   "nbconvert_exporter": "python",
   "pygments_lexer": "ipython3",
   "version": "3.5.2"
  }
 },
 "nbformat": 4,
 "nbformat_minor": 0
}
